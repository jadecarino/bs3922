{
 "cells": [
  {
   "cell_type": "code",
   "execution_count": null,
   "outputs": [],
   "source": [
    "# Calculate the average salary for each level of education\n",
    "average_salary_by_ed_level = df_2019_no_outliers.groupby([\"EdLevel\"])[\"ConvertedComp\"].mean()\n",
    "\n",
    "print(\"Average salary by education level attained:\")\n",
    "print(average_salary_by_ed_level)"
   ],
   "metadata": {
    "collapsed": false
   }
  },
  {
   "cell_type": "code",
   "execution_count": null,
   "outputs": [],
   "source": [
    "print(average_salary_by_ed_level)\n",
    "# Plot a bar graph\n",
    "average_salary_by_ed_level.plot(kind='bar', color='skyblue', alpha=0.7)\n",
    "\n",
    "# Add labels and title\n",
    "plt.xlabel('Education Level')\n",
    "plt.ylabel('Average Salary ($)')\n",
    "plt.title('Average Salary by Education Level')\n",
    "\n",
    "# Show the plot\n",
    "plt.show()"
   ],
   "metadata": {
    "collapsed": false
   }
  },
  {
   "cell_type": "code",
   "execution_count": null,
   "outputs": [],
   "source": [
    "# Calculate the average salary compared to years of experience\n",
    "average_salary_by_years_code = df_2019_no_outliers.groupby([\"YearsCode\"])[\"ConvertedComp\"].mean()\n",
    "\n",
    "print(\"Average salary by years of coding experience:\")\n",
    "print(average_salary_by_years_code)"
   ],
   "metadata": {
    "collapsed": false
   }
  },
  {
   "cell_type": "code",
   "execution_count": null,
   "outputs": [],
   "source": [
    "print(type(average_salary_by_years_code))\n",
    "\n",
    "# Create a scatter plot\n",
    "plt.scatter(average_salary_by_years_code[\"YearsCode\"], average_salary_by_years_code[\"ConvertedComp\"], color='blue', marker='o')\n",
    "average_salary_by_years_code.plot(kind='bar', color='skyblue', alpha=0.7)\n",
    "\n",
    "# Add labels and title\n",
    "plt.xlabel('Years of Experience')\n",
    "plt.ylabel('Average Salary ($)')\n",
    "plt.title('Average Salary by Years of Experience')\n",
    "\n",
    "# Show the plot\n",
    "plt.show()"
   ],
   "metadata": {
    "collapsed": false
   }
  }
 ],
 "metadata": {
  "kernelspec": {
   "display_name": "Python 3",
   "language": "python",
   "name": "python3"
  },
  "language_info": {
   "codemirror_mode": {
    "name": "ipython",
    "version": 2
   },
   "file_extension": ".py",
   "mimetype": "text/x-python",
   "name": "python",
   "nbconvert_exporter": "python",
   "pygments_lexer": "ipython2",
   "version": "2.7.6"
  }
 },
 "nbformat": 4,
 "nbformat_minor": 0
}
