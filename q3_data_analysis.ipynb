{
 "cells": [
  {
   "cell_type": "code",
   "execution_count": null,
   "metadata": {
    "collapsed": true
   },
   "outputs": [],
   "source": [
    "import pandas as pd\n",
    "\n",
    "# Import all datasets\n",
    "df_2019 = pd.read_csv(\"datasets/cleaned/cleaned_dataset_2019.csv\")\n",
    "# df_2019.head()\n",
    "\n",
    "df_2020 = pd.read_csv(\"datasets/cleaned/cleaned_dataset_2020.csv\")\n",
    "# df_2020.head()\n",
    "\n",
    "df_2021 = pd.read_csv(\"datasets/cleaned/cleaned_dataset_2021.csv\")\n",
    "# df_2021.head()\n",
    "\n",
    "df_2022 = pd.read_csv(\"datasets/cleaned/cleaned_dataset_2022.csv\")\n",
    "# df_2022.head()\n",
    "\n",
    "df_2023 = pd.read_csv(\"datasets/cleaned/cleaned_dataset_2023.csv\")\n",
    "# df_2023.head()"
   ]
  }
 ],
 "metadata": {
  "kernelspec": {
   "display_name": "Python 3",
   "language": "python",
   "name": "python3"
  },
  "language_info": {
   "codemirror_mode": {
    "name": "ipython",
    "version": 2
   },
   "file_extension": ".py",
   "mimetype": "text/x-python",
   "name": "python",
   "nbconvert_exporter": "python",
   "pygments_lexer": "ipython2",
   "version": "2.7.6"
  }
 },
 "nbformat": 4,
 "nbformat_minor": 0
}
